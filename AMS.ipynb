{
  "nbformat": 4,
  "nbformat_minor": 0,
  "metadata": {
    "colab": {
      "name": "AMS.ipynb",
      "provenance": [],
      "collapsed_sections": [
        "oZN7FGtryP-J",
        "yzRiGUZ5x4gC"
      ]
    },
    "kernelspec": {
      "name": "python3",
      "display_name": "Python 3"
    },
    "language_info": {
      "name": "python"
    }
  },
  "cells": [
    {
      "cell_type": "markdown",
      "source": [
        "# 1.Zaimplementuj metodę AMS dla 3 z zmiennych."
      ],
      "metadata": {
        "id": "oZN7FGtryP-J"
      }
    },
    {
      "cell_type": "code",
      "source": [
        "import random"
      ],
      "metadata": {
        "id": "JVGIJXlKyPUa"
      },
      "execution_count": 30,
      "outputs": []
    },
    {
      "cell_type": "code",
      "source": [
        "letters = ['a', 'b', 'c', 'd', 'e', 'f', 'g', 'h', 'i']"
      ],
      "metadata": {
        "id": "wJ5BqT3xzdjI"
      },
      "execution_count": 31,
      "outputs": []
    },
    {
      "cell_type": "code",
      "source": [
        "n=10000"
      ],
      "metadata": {
        "id": "4SH1RjCQzpbt"
      },
      "execution_count": 32,
      "outputs": []
    },
    {
      "cell_type": "code",
      "source": [
        "stream = random.choices(letters, k = n)"
      ],
      "metadata": {
        "id": "WMz-nvUbzsle"
      },
      "execution_count": 33,
      "outputs": []
    },
    {
      "cell_type": "code",
      "source": [
        "elements=list(set(stream))"
      ],
      "metadata": {
        "id": "dg--GIX90yuB"
      },
      "execution_count": 34,
      "outputs": []
    },
    {
      "cell_type": "code",
      "source": [
        "S_2=sum([stream.count(i)**2 for i in elements])\n",
        "print('Drugi moment rzeczywisty :',S_2)"
      ],
      "metadata": {
        "colab": {
          "base_uri": "https://localhost:8080/"
        },
        "id": "FjK6CjNq02lt",
        "outputId": "df493fd5-4528-4c7e-fe74-deb5f12e873b"
      },
      "execution_count": 35,
      "outputs": [
        {
          "output_type": "stream",
          "name": "stdout",
          "text": [
            "Drugi moment rzeczywisty : 11125568\n"
          ]
        }
      ]
    },
    {
      "cell_type": "code",
      "source": [
        "t = random.choices([i for i in range(n)], k = 3 )\n",
        "print(t)"
      ],
      "metadata": {
        "colab": {
          "base_uri": "https://localhost:8080/"
        },
        "id": "2KCIKXEz1LHg",
        "outputId": "30d673e2-8b28-4f14-cce8-fa2d39ef9f11"
      },
      "execution_count": 36,
      "outputs": [
        {
          "output_type": "stream",
          "name": "stdout",
          "text": [
            "[7381, 1463, 6997]\n"
          ]
        }
      ]
    },
    {
      "cell_type": "code",
      "source": [
        "counter = [(stream[i], stream[i:].count(stream[i])) for i in t]\n",
        "print(counter)"
      ],
      "metadata": {
        "colab": {
          "base_uri": "https://localhost:8080/"
        },
        "id": "8SWoE5uu3U1R",
        "outputId": "3015df1b-7e50-4703-97fb-f944ca1b7ab1"
      },
      "execution_count": 37,
      "outputs": [
        {
          "output_type": "stream",
          "name": "stdout",
          "text": [
            "[('b', 273), ('g', 974), ('h', 332)]\n"
          ]
        }
      ]
    },
    {
      "cell_type": "code",
      "source": [
        "S_est = sum([n*(2*i[1]-1) for i in counter])/len(counter)\n",
        "print('Drugi moment estymowany :',S_est)"
      ],
      "metadata": {
        "colab": {
          "base_uri": "https://localhost:8080/"
        },
        "id": "l7mPsK0s3rUy",
        "outputId": "62d8ce74-f2de-4fe0-d56c-ddd0bdf59fdf"
      },
      "execution_count": 38,
      "outputs": [
        {
          "output_type": "stream",
          "name": "stdout",
          "text": [
            "Drugi moment estymowany : 10516666.666666666\n"
          ]
        }
      ]
    },
    {
      "cell_type": "markdown",
      "source": [
        "# 2. Przetestuj na przykładzie prezentowanym na wykładzie."
      ],
      "metadata": {
        "id": "yzRiGUZ5x4gC"
      }
    },
    {
      "cell_type": "code",
      "execution_count": 39,
      "metadata": {
        "id": "0NwlSzRVxU4p"
      },
      "outputs": [],
      "source": [
        "przyklad = ['a','b','c','b','d','a','c','d','a','b','d','c','a','a','b']"
      ]
    },
    {
      "cell_type": "code",
      "source": [
        "n = len(przyklad)"
      ],
      "metadata": {
        "id": "BKew8SpuzEOB"
      },
      "execution_count": 40,
      "outputs": []
    },
    {
      "cell_type": "code",
      "source": [
        "elementy=list(set(przyklad))"
      ],
      "metadata": {
        "id": "_p3RvrFgyYeC"
      },
      "execution_count": 41,
      "outputs": []
    },
    {
      "cell_type": "code",
      "source": [
        "#  drugi moment\n",
        "S_2=sum([przyklad.count(i)**2 for i in elementy])"
      ],
      "metadata": {
        "id": "8ehPImn4yfRP"
      },
      "execution_count": 42,
      "outputs": []
    },
    {
      "cell_type": "code",
      "source": [
        "# czas (3,8,13) --> (2,7,12), bo numeracja od 0\n",
        "t = [2, 7, 12]  "
      ],
      "metadata": {
        "id": "fkBNgqd5yvgW"
      },
      "execution_count": 43,
      "outputs": []
    },
    {
      "cell_type": "code",
      "source": [
        "counter=[(przyklad[i],przyklad[i:].count(przyklad[i])) for i in t] # zmienna i liczebnosc"
      ],
      "metadata": {
        "id": "xrqMc_WcylBo"
      },
      "execution_count": 44,
      "outputs": []
    },
    {
      "cell_type": "code",
      "source": [
        "counter"
      ],
      "metadata": {
        "colab": {
          "base_uri": "https://localhost:8080/"
        },
        "id": "jXjKeN03y-ww",
        "outputId": "069304cb-b550-417e-f1d1-681adc60c95a"
      },
      "execution_count": 45,
      "outputs": [
        {
          "output_type": "execute_result",
          "data": {
            "text/plain": [
              "[('c', 3), ('d', 2), ('a', 2)]"
            ]
          },
          "metadata": {},
          "execution_count": 45
        }
      ]
    },
    {
      "cell_type": "code",
      "source": [
        "S_est= sum([n*(2*i[1]-1) for i in counter])/len(counter) \n",
        "print('Drugi moment rzeczywisty :',S_2)\n",
        "print('Drugi moment estymowany :',S_est)"
      ],
      "metadata": {
        "colab": {
          "base_uri": "https://localhost:8080/"
        },
        "id": "7-PnN6HAzC3o",
        "outputId": "24807984-9d39-4002-8c1b-de2d3f6fb52a"
      },
      "execution_count": 46,
      "outputs": [
        {
          "output_type": "stream",
          "name": "stdout",
          "text": [
            "Drugi moment rzeczywisty : 59\n",
            "Drugi moment estymowany : 55.0\n"
          ]
        }
      ]
    },
    {
      "cell_type": "markdown",
      "source": [
        "# 3. (*) Zaimplementuj metodę AMS dla K dowolnych zmiennych (K będzie małe).\n"
      ],
      "metadata": {
        "id": "JPK92Ob0yTGw"
      }
    },
    {
      "cell_type": "code",
      "source": [
        "class AMS:\n",
        "  def __init__(self, k=4):\n",
        "    self.SAMPLE_COUNT = k+1\n",
        "    self.sample = []\n",
        "    self.sample_index = []\n",
        "    self.index = 0 \n",
        "    self.S_2 = 0\n",
        "    self.S_2_dict = {} #słownik na elementy i ich counter \n",
        "    self.S_est = 0\n",
        "    self.S_est_dict = {}\n",
        "    self.dict_sample_index = {}\n",
        "\n",
        "  def RS_update(self, new_sample):\n",
        "    self.index += 1\n",
        "\n",
        "    if self.index < self.SAMPLE_COUNT:\n",
        "      self.sample.append(new_sample)\n",
        "      self.sample_index.append(self.index)\n",
        "      self.dict_sample_index[new_sample]  = self.index\n",
        "\n",
        "    else:\n",
        "      # Losowo zamieniaj element w rezerwuarze\n",
        "      # z malejącym prawdopodobieństwem.\n",
        "      # wylosuj liczbę z zakresu od 0 do index\n",
        "      r = random.randint(0, self.index)\n",
        "\n",
        "      # Jeśli pozycja w zakresie rezerwuaru to zamień wylosowany element\n",
        "      if r < self.SAMPLE_COUNT-1:\n",
        "        self.sample[r] = new_sample\n",
        "        self.sample_index[r] = self.index #!!! ZMIANA BO CHCEMY DOSTAĆ INDEKSY\n",
        "        self.dict_sample_index[new_sample]  = self.index\n",
        "\n",
        "  def real(self,new_sample):\n",
        "    #jeśli nie było jeszcze takiej obserwacji, to dodaj nowy klucz\n",
        "    if new_sample not in self.S_2_dict.keys():\n",
        "      self.S_2_dict[new_sample] = 1\n",
        "    #jeśli jest to zlicz kolejną wartość\n",
        "    else:\n",
        "      self.S_2_dict[new_sample] += 1\n",
        "\n",
        "    self.S_2 = sum([self.S_2_dict[i]**2 for i in self.S_2_dict])\n",
        "\n",
        "  def estimation(self, new_sample):\n",
        "    #jeśli nowa obserwacja jest na obu listach\n",
        "    if (new_sample in self.dict_sample_index.keys()) and (new_sample in self.sample):\n",
        "      #jeśli nie było jeszcze takiej obserwacji, to dodaj nowy klucz do słownika na estymację\n",
        "      if new_sample not in self.S_2_dict.keys():\n",
        "        self.S_est_dict[new_sample] = 1\n",
        "      #jeśli jest to zlicz kolejną wartość\n",
        "      else:\n",
        "        self.S_est_dict[new_sample] += 1\n",
        "      #jeśli obserwacji tej nie ma na obu listach, to nas nie interesuje do zliczania\n",
        "    else:\n",
        "      #jeśli wcześniej nas interesowała to trzeba ją usunąć \n",
        "      if new_sample in self.S_est_dict.keys():\n",
        "          self.S_est_dict.pop(new_sample, None)\n",
        "    self.S_est = sum([self.index*(2*self.S_est_dict[i]-1) for i in self.S_est_dict])"
      ],
      "metadata": {
        "id": "Dv4G2iwWv4mW"
      },
      "execution_count": 201,
      "outputs": []
    },
    {
      "cell_type": "code",
      "source": [
        "ams = AMS()\n",
        "for element in przyklad:\n",
        "  ams.RS_update(element)\n",
        "  ams.estimation(element)\n",
        "  ams.real(element)\n",
        "print(ams.sample, ams.S_est_dict, ams.S_2_dict, ams.dict_sample_index)\n",
        "print('Drugi moment rzeczywisty :',ams.S_2)\n",
        "print('Drugi moment estymowany :',ams.S_est)"
      ],
      "metadata": {
        "colab": {
          "base_uri": "https://localhost:8080/"
        },
        "id": "mU7kdkwl40DK",
        "outputId": "fb21bcf2-4e34-4d53-8637-451c8bd29f1e"
      },
      "execution_count": 203,
      "outputs": [
        {
          "output_type": "stream",
          "name": "stdout",
          "text": [
            "['a', 'b', 'd', 'd'] {'a': 5, 'b': 4, 'd': 3} {'a': 5, 'b': 4, 'c': 3, 'd': 3} {'a': 9, 'b': 10, 'c': 7, 'd': 11}\n",
            "Drugi moment rzeczywisty : 59\n",
            "Drugi moment estymowany : 315\n"
          ]
        }
      ]
    }
  ]
}