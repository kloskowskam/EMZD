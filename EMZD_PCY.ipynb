{
  "nbformat": 4,
  "nbformat_minor": 0,
  "metadata": {
    "colab": {
      "name": "EMZD_PCY.ipynb",
      "provenance": [],
      "collapsed_sections": []
    },
    "kernelspec": {
      "name": "python3",
      "display_name": "Python 3"
    },
    "language_info": {
      "name": "python"
    }
  },
  "cells": [
    {
      "cell_type": "code",
      "source": [
        "! pip install mmh3\n",
        "import mmh3"
      ],
      "metadata": {
        "colab": {
          "base_uri": "https://localhost:8080/"
        },
        "id": "LsQDP2qLVLL5",
        "outputId": "336b1706-a063-4465-ea74-0d5d0d306eba"
      },
      "execution_count": 1,
      "outputs": [
        {
          "output_type": "stream",
          "name": "stdout",
          "text": [
            "Collecting mmh3\n",
            "  Downloading mmh3-3.0.0-cp37-cp37m-manylinux2010_x86_64.whl (50 kB)\n",
            "\u001b[?25l\r\u001b[K     |██████▍                         | 10 kB 19.2 MB/s eta 0:00:01\r\u001b[K     |████████████▉                   | 20 kB 23.9 MB/s eta 0:00:01\r\u001b[K     |███████████████████▎            | 30 kB 17.8 MB/s eta 0:00:01\r\u001b[K     |█████████████████████████▊      | 40 kB 15.6 MB/s eta 0:00:01\r\u001b[K     |████████████████████████████████| 50 kB 4.4 MB/s \n",
            "\u001b[?25hInstalling collected packages: mmh3\n",
            "Successfully installed mmh3-3.0.0\n"
          ]
        }
      ]
    },
    {
      "cell_type": "code",
      "source": [
        "from itertools import combinations"
      ],
      "metadata": {
        "id": "w_uwhc0DVS2E"
      },
      "execution_count": 2,
      "outputs": []
    },
    {
      "cell_type": "code",
      "execution_count": 3,
      "metadata": {
        "id": "9hZzKJ0KUTSR"
      },
      "outputs": [],
      "source": [
        "#wszystkie elementy koszykowe\n",
        "P = ('m' , 'c', 'p', 'b', 'j')\n",
        "\n",
        "#ilość wystąpień\n",
        "Support_treshold = 3\n",
        "\n",
        "#koszyki\n",
        "K_1 = ('m' , 'c' , 'b')\n",
        "K_2 = ('m' , 'p' , 'j')\n",
        "K_3 = ('m' , 'b')\n",
        "K_4 = ('c' , 'j')\n",
        "K_5 = ('m' , 'p' , 'b')\n",
        "K_6 = ('m' , 'c' , 'b' , 'j')\n",
        "K_7 = ('c' , 'b' , 'j')\n",
        "K_8 = ('b' , 'c')\n",
        "\n",
        "K = (K_1 , K_2 , K_3 , K_4 , K_5 , K_6 , K_7 , K_8)"
      ]
    },
    {
      "cell_type": "code",
      "source": [
        "from typing import Counter\n",
        "class PCY():\n",
        "  def __init__(self, Support_treshold = 3, baskets = K, k = 5):\n",
        "    self.Support_treshold = Support_treshold\n",
        "    self.baskets = K\n",
        "    self.k = k\n",
        "\n",
        "  def create_frequent_item_set(self, i, k, L): #baskets --> koszyki, i --> kolejna iteracja\n",
        "    C = Counter()\n",
        "    H = Counter()\n",
        "    for basket in self.baskets:\n",
        "      for product in basket:\n",
        "        C[product] += 1\n",
        "      for pair in combinations(basket, i):\n",
        "        H[hash(pair)%self.k] += 1\n",
        "    if i == 1:\n",
        "      L = [c for c in C.keys() if C[c] > self.Support_treshold]\n",
        "    else:\n",
        "      L = [pair for pair in combinations(L, 2) if H[hash(pair)%self.k]>3]\n",
        "\n",
        "    return C, H, L\n",
        "\n",
        "  def create_bitmap(self, H):\n",
        "    bit_map = [0,] * self.k\n",
        "    for key, value in H.items():\n",
        "      if value > self.Support_treshold:\n",
        "        bit_map[key] = 1\n",
        "    return bit_map"
      ],
      "metadata": {
        "id": "BWlfIpj0U5NK"
      },
      "execution_count": 116,
      "outputs": []
    },
    {
      "cell_type": "code",
      "source": [
        "pcy = PCY()"
      ],
      "metadata": {
        "id": "u7vWLLckBXQv"
      },
      "execution_count": 117,
      "outputs": []
    },
    {
      "cell_type": "code",
      "source": [
        "C1, H1, L1 = pcy.create_frequent_item_set(1,5,[])"
      ],
      "metadata": {
        "id": "XPE_hD33BYtG"
      },
      "execution_count": 118,
      "outputs": []
    },
    {
      "cell_type": "code",
      "source": [
        "pcy.create_frequent_item_set(1,5,[])"
      ],
      "metadata": {
        "colab": {
          "base_uri": "https://localhost:8080/"
        },
        "id": "c73fWgM-EwMI",
        "outputId": "80a7efc1-7f14-411d-df21-e08235881015"
      },
      "execution_count": 119,
      "outputs": [
        {
          "output_type": "execute_result",
          "data": {
            "text/plain": [
              "(Counter({'b': 6, 'c': 5, 'j': 4, 'm': 5, 'p': 2}),\n",
              " Counter({0: 6, 2: 5, 3: 5, 4: 6}),\n",
              " ['m', 'c', 'b', 'j'])"
            ]
          },
          "metadata": {},
          "execution_count": 119
        }
      ]
    },
    {
      "cell_type": "code",
      "source": [
        "pcy.create_frequent_item_set(2,5,L1)"
      ],
      "metadata": {
        "colab": {
          "base_uri": "https://localhost:8080/"
        },
        "id": "QdmSyEmFBpil",
        "outputId": "982e2fae-d08a-4083-fccc-a79bb6a60690"
      },
      "execution_count": 120,
      "outputs": [
        {
          "output_type": "execute_result",
          "data": {
            "text/plain": [
              "(Counter({'b': 6, 'c': 5, 'j': 4, 'm': 5, 'p': 2}),\n",
              " Counter({0: 2, 1: 6, 2: 1, 3: 4, 4: 8}),\n",
              " [('m', 'c'), ('m', 'b'), ('m', 'j'), ('c', 'b'), ('c', 'j'), ('b', 'j')])"
            ]
          },
          "metadata": {},
          "execution_count": 120
        }
      ]
    },
    {
      "cell_type": "code",
      "source": [
        "C2, H2, L2 = pcy.create_frequent_item_set(2,5,L1)"
      ],
      "metadata": {
        "id": "DjqgVwQEDFbs"
      },
      "execution_count": 121,
      "outputs": []
    },
    {
      "cell_type": "code",
      "source": [
        "pcy.create_bitmap(H1)"
      ],
      "metadata": {
        "colab": {
          "base_uri": "https://localhost:8080/"
        },
        "id": "B9uP-k5XJI6F",
        "outputId": "d8b33795-1f38-42b7-aee3-c9f34efa52a9"
      },
      "execution_count": 122,
      "outputs": [
        {
          "output_type": "execute_result",
          "data": {
            "text/plain": [
              "[1, 0, 1, 1, 1]"
            ]
          },
          "metadata": {},
          "execution_count": 122
        }
      ]
    },
    {
      "cell_type": "code",
      "source": [
        "pcy.create_bitmap(H2)"
      ],
      "metadata": {
        "colab": {
          "base_uri": "https://localhost:8080/"
        },
        "id": "Kcglt2bvJoqD",
        "outputId": "5c2b0f84-467a-4a0b-843f-adccd47cb765"
      },
      "execution_count": 123,
      "outputs": [
        {
          "output_type": "execute_result",
          "data": {
            "text/plain": [
              "[0, 1, 0, 1, 1]"
            ]
          },
          "metadata": {},
          "execution_count": 123
        }
      ]
    }
  ]
}