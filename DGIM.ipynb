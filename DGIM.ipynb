{
  "nbformat": 4,
  "nbformat_minor": 0,
  "metadata": {
    "colab": {
      "name": "DGIM.ipynb",
      "provenance": [],
      "collapsed_sections": []
    },
    "kernelspec": {
      "name": "python3",
      "display_name": "Python 3"
    },
    "language_info": {
      "name": "python"
    }
  },
  "cells": [
    {
      "cell_type": "code",
      "source": [
        "import math\n",
        "import numpy as np"
      ],
      "metadata": {
        "id": "mOvPrs76Wi-7"
      },
      "execution_count": 10,
      "outputs": []
    },
    {
      "cell_type": "code",
      "source": [
        "#kreujemy strumień\n",
        "data_stream = np.random.choice([0,1], size=100, replace =True)"
      ],
      "metadata": {
        "id": "Jrq1xeC1WgMF"
      },
      "execution_count": 11,
      "outputs": []
    },
    {
      "cell_type": "code",
      "source": [
        "window_size = 10 #wielkość okna, jakie możemy przechowywać\n",
        "timestamp = 0\n",
        "\n",
        "class DGIM:\n",
        "    def __init__(self, window_size):\n",
        "        self.window_size = window_size                        #wielkość okna\n",
        "        self.buckets = {}                                     #kubełkowy słownik\n",
        "        self.keys_num = int(math.log(self.window_size))+2     #ile kubełków możemy mieć, związane jest to z wielkością okna, indeksy kubełków\n",
        "        self.keys_list = []                                   #listy kluczy dla kubełkowego słownika \n",
        "        self.cur_timestamp = -1                               #na wejściu -1, ale może być cokolwiek, bo w update i tak przypisujemy nowe\n",
        "\n",
        "        #tworzenie słownika dla kubełków \n",
        "        for i in range(self.keys_num):  #ile kubełków mamy\n",
        "            key = int(math.pow(2, i))   #klucz to 2 do kolejnej potęgi\n",
        "            self.keys_list.append(key)  #dodajemy kolejne klucze do listy z kluczami\n",
        "            self.buckets[key] = []      #dodajemy pustą listę dla każdego klucza w słowniku kubełowym\n",
        "    \n",
        "    def update(self, bit, timestamp):            #bit odnosi się tutaj do elementu z nadchodzącej listy, więc bit to w zasadzie[bit...bit]\n",
        "        timestamp = timestamp % self.window_size #znacznik czasu, modulo wielkość okna, żeby kontrolować ile możemy przechowywać\n",
        "        self.cur_timestamp = timestamp           #trzymamy aktualny znacznik czasu, bez modulo, bo później operujemy na timestamp\n",
        "        #print('1', self.buckets)\n",
        "        if bit == 1:                             #jeśli przyszła '1' to \n",
        "            self.buckets[1].append(timestamp)    #dodajemy znacznik czasu do pierwszego kubełka\n",
        "            for key in self.keys_list:           #sprawdzamy po wszystkich kubełkach\n",
        "                if len(self.buckets[key]) > 2:   #jeśli długość listy dla danego klucza kubełowego jest większa od 2\n",
        "                    self.buckets[key].pop(0)     #to wyrzucamy pierwszy element(najstarszy)\n",
        "                    timestamp = self.buckets[key].pop(0) #usuwamy drugi i oznaczamy go jako czas\n",
        "                    if key != self.keys_list[-1]: #jeśli klucz nie znajduje się to go dodaj\n",
        "                        self.buckets[key * 2].append(timestamp)\n",
        "                        #print('2',self.buckets)\n",
        "                else:\n",
        "                    break\n",
        "                \n",
        "    def estimation(self):\n",
        "        sum = 0 \n",
        "        last = list(self.buckets.keys())[-1]\n",
        "        for key in list(self.buckets.keys())[:-1]:\n",
        "            sum =+ key*len(self.buckets[key])\n",
        "        for value in range(len(self.buckets[last])):\n",
        "            if sum + last <= self.window_size:\n",
        "                sum += last\n",
        "            else:\n",
        "                sum += 0.5*last\n",
        "                break\n",
        "        print(\"Wyestymowana ilość jedynek w ostatnich {} bitach to: {}\".format(self.window_size, sum))"
      ],
      "metadata": {
        "id": "0ySGr3X3TVTD"
      },
      "execution_count": 54,
      "outputs": []
    },
    {
      "cell_type": "code",
      "source": [
        "dgim = DGIM(100)\n",
        "for i in range(len(data_stream)):\n",
        "    dgim.update(data_stream[i],i)\n",
        "dgim.estimation()"
      ],
      "metadata": {
        "colab": {
          "base_uri": "https://localhost:8080/"
        },
        "id": "bYovSrikWZYu",
        "outputId": "74f80f05-7771-475c-a544-14575a55da1a"
      },
      "execution_count": 56,
      "outputs": [
        {
          "output_type": "stream",
          "name": "stdout",
          "text": [
            "Wyestymowana ilość jedynek w ostatnich 100 bitach to: 32\n"
          ]
        }
      ]
    }
  ]
}